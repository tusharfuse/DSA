{
 "cells": [
  {
   "cell_type": "markdown",
   "id": "b787add4-99f8-4a85-a927-395b775a30ea",
   "metadata": {},
   "source": [
    "# Q.1 Can you explain the logic and working of the Tower of Hanoi algorithm by writing a Python program?\n",
    "# How does the recursion work, and how are the movements of disks between rods accomplished?"
   ]
  },
  {
   "cell_type": "code",
   "execution_count": 1,
   "id": "28ee3ef8-ab75-4418-b3ce-bab9d68e3d39",
   "metadata": {},
   "outputs": [
    {
     "data": {
      "text/plain": [
       "7"
      ]
     },
     "execution_count": 1,
     "metadata": {},
     "output_type": "execute_result"
    }
   ],
   "source": [
    "#For checking the number of moves for n disks to move from source to destination\n",
    "def moves(n,s,d,a):\n",
    "    #Base Case\n",
    "    if n ==1 :\n",
    "        return 1\n",
    "    #Recursive Call\n",
    "    return moves(n-1,s,a,d)+1+moves(n-1,a,d,s)\n",
    "moves(3,\"A\",\"B\",\"C\")\n",
    " "
   ]
  },
  {
   "cell_type": "code",
   "execution_count": 133,
   "id": "3bea201a-53fd-4cc8-99cc-fcf6abd0279a",
   "metadata": {},
   "outputs": [
    {
     "name": "stdout",
     "output_type": "stream",
     "text": [
      "Move disk1 from A to C\n",
      "Move disk2 from A to B\n",
      "Move disk1 from C to B\n",
      "Move disk3 from A to C\n",
      "Move disk1 from B to A\n",
      "Move disk2 from B to C\n",
      "Move disk1 from A to C\n"
     ]
    }
   ],
   "source": [
    "#Function Defintion\n",
    "def Tower_of_Hanoi(n,s,d,a):\n",
    "    # Base case: only 1 disk, just move it directly\n",
    "    if n == 1:\n",
    "        print(f\"Move disk1 from {s} to {d}\")\n",
    "        return\n",
    "    # Move the top n-1 disks from source to auxiliary, using destination as a buffer\n",
    "    Tower_of_Hanoi(n-1,s,a,d)\n",
    "    \n",
    "    # Move the nth disk from source to destination\n",
    "    print(f\"Move disk{n} from {s} to {d}\")\n",
    "    \n",
    "    # Move the n-1 disks from auxiliary to destination, using source as a buffer\n",
    "    Tower_of_Hanoi(n-1,a,d,s)\n",
    "\n",
    "n = 3 #Number of disks\n",
    "Tower_of_Hanoi(n,\"A\",\"C\",\"B\") # Move disks from rod A to rod C using B as auxiliary\n"
   ]
  },
  {
   "cell_type": "markdown",
   "id": "2c3af472-9c7a-47bd-a42a-59fbbb6dc617",
   "metadata": {},
   "source": [
    "1. Function definition:\n",
    "\n",
    "Tower_of_Hanoi(n, s, d, a) defines the recursive function to solve the Tower of Hanoi problem.\n",
    "n: Number of disks.\n",
    "s: Source rod where the disks are initially placed.\n",
    "d: Destination rod where the disks need to be moved.\n",
    "a: Auxiliary rod used to assist in moving the disks.\n",
    "\n",
    "2.Base case:\n",
    "\n",
    "If there is only 1 disk, move it directly from the source (s) to the destination (d) and return (no more recursion required).\n",
    "'''if n == 1:\n",
    "    print(f\"Move disk1 from {s} to {d}\")\n",
    "    return'''\n",
    "\n",
    "3.Recursive case (first part):\n",
    "\n",
    "Move the top n-1 disks from the source rod (s) to the auxiliary rod (a) using the destination rod (d) as a buffer.\n",
    "This step recursively moves the smaller subproblem (without the largest disk).\n",
    "#Tower_of_Hanoi(n-1, s, a, d)\n",
    "\n",
    "4.After moving the n-1 disks to the auxiliary rod, move the nth (largest) disk from the source rod to the destination rod.\n",
    "print(f\"Move disk{n} from {s} to {d}\")\n",
    "\n",
    "5.Recursive case (second part):\n",
    "\n",
    "Finally, move the n-1 disks from the auxiliary rod (a) to the destination rod (d), using the source rod (s) as a buffer.\n",
    "This step completes the move by recursively shifting the remaining smaller disks.\n",
    "#Tower_of_Hanoi(n-1, a, d, s)\n",
    "\n",
    "6.For n = 3 disks, the function moves the disks from rod A to rod C using rod B as the auxiliary.\n",
    "'''\n",
    "n = 3\n",
    "Tower_of_Hanoi(n, \"A\", \"C\", \"B\")\n",
    "\n",
    "'''\n"
   ]
  },
  {
   "cell_type": "markdown",
   "id": "dbe9afd4-c668-484a-8c51-5b7327f58d22",
   "metadata": {},
   "source": [
    "# Q.2 Given two strings word1 and word2, return the minimum number of operations required to convert word1to word2.\n"
   ]
  },
  {
   "cell_type": "code",
   "execution_count": 52,
   "id": "33206ab6-7023-40ea-a8eb-a16eec34979f",
   "metadata": {},
   "outputs": [
    {
     "name": "stdout",
     "output_type": "stream",
     "text": [
      "Minimum number of operations: 3\n"
     ]
    }
   ],
   "source": [
    "def minDisRecursive(word1 , word2):\n",
    "    #Base Cases\n",
    "    if len(word1)==0: # Insert all remaining characters of word2\n",
    "        return len(word2)\n",
    "    if len(word2)==0: # Remove all remaining characters of word1\n",
    "        return len(word1)\n",
    "    #Recursive Call\n",
    "    # If last characters are the same, no need for an operation\n",
    "    if word1[-1] == word2[-1]:\n",
    "        return minDisRecursive(word1[:-1],word2[:-1])\n",
    "    \n",
    "    # If last characters are different, consider all three operations:\n",
    "    insert = minDisRecursive(word1, word2[:-1])  # Insert operation\n",
    "    delete = minDisRecursive(word1[:-1], word2)  # Delete operation\n",
    "    replace = minDisRecursive(word1[:-1], word2[:-1])  # Replace operation\n",
    "    \n",
    "    # Return the minimum number of operations + 1 (for the current operation)\n",
    "    return 1 + min(insert, delete, replace)\n"
   ]
  },
  {
   "cell_type": "markdown",
   "id": "e887780b-666f-4332-9539-6932c7d6e986",
   "metadata": {},
   "source": [
    "1.Function Definition:\n",
    "\n",
    "The function minDisRecursive(word1, word2) recursively computes the minimum number of operations (insert, delete, replace) required to convert word1 to word2.\n",
    "\n",
    "2.Base Case 1:\n",
    "\n",
    "If word1 is empty (i.e., len(word1) == 0), the function returns the length of word2 because the only way to convert word1 into word2 is to insert all the remaining characters of word2.\n",
    "'''if len(word1) == 0:\n",
    "    return len(word2)'''\n",
    "\n",
    "3.Base Case 2:\n",
    "\n",
    "If word2 is empty (i.e., len(word2) == 0), the function returns the length of word1 because the only way to convert word1 into word2 is to delete all the remaining characters of word1.\n",
    "'''if len(word2) == 0:\n",
    "    return len(word1)'''\n",
    "\n",
    "4.Recursive Case (Same Last Character):\n",
    "\n",
    "If the last characters of word1 and word2 are the same (word1[-1] == word2[-1]), no operation is needed. The function recursively calls itself with the rest of the strings (word1[:-1] and word2[:-1]) and checks further.\n",
    "'''if word1[-1] == word2[-1]:\n",
    "    return minDisRecursive(word1[:-1], word2[:-1])'''\n",
    "\n",
    "5.Recursive Case (Different Last Characters):\n",
    "\n",
    "When the last characters of word1 and word2 are different, the function considers three possible operations: insert, delete, and replace:\n",
    "a. Insert Operation:\n",
    "\n",
    "#insert = minDisRecursive(word1, word2[:-1])\n",
    "To simulate an insert operation, compare word1 with word2's last character (word2[:-1]). This adds one character to word1 to match word2's last character.\n",
    "\n",
    "b. Delete Operation:\n",
    "\n",
    "#delete = minDisRecursive(word1[:-1], word2)\n",
    "To simulate a delete operation, compare word1's last character (word1[:-1]) with word2. This effectively deletes one character from word1.\n",
    "\n",
    "c. Replace Operation:\n",
    "\n",
    "#replace = minDisRecursive(word1[:-1], word2[:-1])\n",
    "To simulate a replace operation, compare word1's last character and word2's last character (word1[:-1] and word2[:-1]). This replaces the last character of word1 with the last character of word2.\n",
    "\n",
    "6.Calculate the Minimum Operations:\n",
    "    \n",
    "After calculating the results for the three possible operations (insert, delete, replace), the function returns 1 + min(insert, delete, replace). The 1 accounts for the operation performed, and the function picks the operation that results in the minimum number of changes.\n",
    "#return 1 + min(insert, delete, replace)"
   ]
  },
  {
   "cell_type": "raw",
   "id": "0611fec4-c01f-4276-ad6f-75cab5c8bae7",
   "metadata": {},
   "source": [
    "Example 1:\n",
    "Input: word1 = \"horse\", word2 = \"ros\"\n",
    "Output: 3\n",
    "Explanation:\n",
    "horse -> rorse (replace 'h' with 'r')\n",
    "rorse -> rose (remove 'r')\n",
    "rose -> ros (remove 'e')"
   ]
  },
  {
   "cell_type": "code",
   "execution_count": 138,
   "id": "b16e931e-8af3-4f43-a6e1-03a6c21cb484",
   "metadata": {},
   "outputs": [
    {
     "name": "stdout",
     "output_type": "stream",
     "text": [
      "Minimum number of operations: 3\n"
     ]
    },
    {
     "data": {
      "text/plain": [
       "'\\n\\nFor word1 = \"horse\" and word2 = \"ros\", the function calculates the minimum number of operations:\\n\\nIt performs recursive calls to break the problem into smaller subproblems.\\nThe final result, 3, indicates that 3 operations are required to convert \"horse\" into \"ros\". Specifically:\\nReplace \\'h\\' with \\'r\\'.\\nDelete \\'r\\'.\\nDelete \\'e\\'.\\n'"
      ]
     },
     "execution_count": 138,
     "metadata": {},
     "output_type": "execute_result"
    }
   ],
   "source": [
    "word1=\"horse\"\n",
    "word2 = \"ros\"\n",
    "print(\"Minimum number of operations:\", minDistanceRecursive(word1, word2))\n",
    "\n",
    "'''\n",
    "\n",
    "For word1 = \"horse\" and word2 = \"ros\", the function calculates the minimum number of operations:\n",
    "\n",
    "It performs recursive calls to break the problem into smaller subproblems.\n",
    "The final result, 3, indicates that 3 operations are required to convert \"horse\" into \"ros\". Specifically:\n",
    "Replace 'h' with 'r'.\n",
    "Delete 'r'.\n",
    "Delete 'e'.\n",
    "'''"
   ]
  },
  {
   "cell_type": "raw",
   "id": "605d0e38-efcc-4138-b0cc-33458789aaf1",
   "metadata": {},
   "source": [
    "Example 2:\n",
    "Input: word1 = \"intention\", word2 = \"execution\"\n",
    "Output: 5\n",
    "Explanation:\n",
    "intention -> inention (remove 't')\n",
    "inention -> enention (replace 'i' with 'e')\n",
    "enention -> exention (replace 'n' with 'x')\n",
    "exention -> exection (replace 'n' with 'c')\n",
    "exection -> execution (insert 'u')"
   ]
  },
  {
   "cell_type": "code",
   "execution_count": 137,
   "id": "bf9400d6-c6c0-4dc2-81bd-28548f90c045",
   "metadata": {},
   "outputs": [
    {
     "name": "stdout",
     "output_type": "stream",
     "text": [
      "Minimum number of operations: 5\n"
     ]
    },
    {
     "data": {
      "text/plain": [
       "'\\nFor word1 = \"intention\" and word2 = \"execution\", the function calculates the minimum number of operations:\\n\\nReplace \\'n\\' with \\'e\\'.\\nReplace \\'t\\' with \\'x\\'.\\nReplace \\'n\\' with \\'c\\'.\\nReplace \\'t\\' with \\'u\\'.\\nInsert \\'e\\' at the beginning.'"
      ]
     },
     "execution_count": 137,
     "metadata": {},
     "output_type": "execute_result"
    }
   ],
   "source": [
    "word1=\"intention\"\n",
    "word2=\"execution\"\n",
    "print(\"Minimum number of operations:\", minDistanceRecursive(word1, word2))\n",
    "\n",
    "'''\n",
    "For word1 = \"intention\" and word2 = \"execution\", the function calculates the minimum number of operations:\n",
    "It performs recursive calls to break the problem into smaller subproblems.\n",
    "The final result, 5, indicates that 5 operations are required to convert \"intention\" into \"execution\". Specifically:\n",
    "\n",
    "Replace 'n' with 'e'.\n",
    "Replace 't' with 'x'.\n",
    "Replace 'n' with 'c'.\n",
    "Replace 't' with 'u'.\n",
    "Insert 'e' at the beginning.'''"
   ]
  },
  {
   "cell_type": "raw",
   "id": "54bcc85e-a9c8-4082-9f45-a080e17c7d0d",
   "metadata": {},
   "source": [
    "Q.3 Print the max value of the array [13, 1, -3, 22, 5]."
   ]
  },
  {
   "cell_type": "code",
   "execution_count": 139,
   "id": "e0697d30-bc32-4bf6-bc2b-57322ceef9ae",
   "metadata": {},
   "outputs": [
    {
     "name": "stdout",
     "output_type": "stream",
     "text": [
      "Maximum value: 22\n"
     ]
    }
   ],
   "source": [
    "def find_max(arr,n):\n",
    "    #Base case : when there's only one element\n",
    "    if n==1:\n",
    "        return arr[0]\n",
    "    #Recursive call : compare the last element with the max of the rest\n",
    "    return max(arr[n-1],find_max(arr,n-1))\n",
    "    \n",
    "#Driver Code\n",
    "arr = [13, 1, -3, 22, 5]\n",
    "result = find_max(arr,len(arr)) #The find_max function is called with the array arr and its length len(arr). This begins the recursive process.\n",
    "\n",
    "print(\"Maximum value:\",result) #The result (maximum value of the array) is printed."
   ]
  },
  {
   "cell_type": "markdown",
   "id": "ed367732-efec-4b83-a41a-0a646cd7c3a4",
   "metadata": {},
   "source": [
    "1.Function definition:\n",
    "\n",
    "#def find_max(arr, n):\n",
    "Defines a recursive function find_max to find the maximum value in an array arr of length n.\n",
    "\n",
    "2.Base case:\n",
    "\n",
    "'''if n == 1:\n",
    "    return arr[0]'''\n",
    "Base case: If the array contains only one element (n == 1), return that element, as it is the maximum by default.\n",
    "\n",
    "3.Recursive case:\n",
    "\n",
    "#return max(arr[n-1], find_max(arr, n-1))\n",
    "Recursive step: Compare the last element of the array (arr[n-1]) with the result of the recursive call find_max(arr, n-1) (which finds the maximum in the remaining portion of the array). The max function returns the larger of the two."
   ]
  },
  {
   "cell_type": "raw",
   "id": "e3a5a146-658e-4da7-ac3e-f344bf57d1a2",
   "metadata": {},
   "source": [
    "Q.4 Find the sum of the values of the array [92, 23, 15, -20, 10]."
   ]
  },
  {
   "cell_type": "code",
   "execution_count": 141,
   "id": "47509ae3-5859-4fe5-b0e2-556e134ebacb",
   "metadata": {},
   "outputs": [
    {
     "name": "stdout",
     "output_type": "stream",
     "text": [
      "Sum of the array: 120\n"
     ]
    }
   ],
   "source": [
    "def find_sum(arr, n):\n",
    "    # Base case: when array is empty, return 0\n",
    "    if n == 0:\n",
    "        return 0\n",
    "    \n",
    "    # Recursive case: add the last element to the sum of the rest of the array\n",
    "    return arr[n-1] + find_sum(arr, n-1)\n",
    "\n",
    "# Example usage:\n",
    "arr = [92, 23, 15, -20, 10]\n",
    "result = find_sum(arr, len(arr))\n",
    "print(\"Sum of the array:\", result)\n"
   ]
  },
  {
   "cell_type": "markdown",
   "id": "987027cc-8a93-4859-a410-b6a855261dfc",
   "metadata": {},
   "source": [
    "1.Function definition:\n",
    "\n",
    "#def find_sum(arr, n):\n",
    "Defines the recursive function find_sum to find the sum of elements in an array arr of length n.\n",
    "\n",
    "2.Base case:\n",
    "\n",
    "'''if n == 0:\n",
    "    return 0'''\n",
    "Base case: If the array is empty (n == 0), return 0 because the sum of an empty array is 0.\n",
    "\n",
    "3.Recursive case:\n",
    "\n",
    "#return arr[n-1] + find_sum(arr, n-1)\n",
    "Recursive step: Add the last element of the array (arr[n-1]) to the result of the recursive call find_sum(arr, n-1) (which calculates the sum of the rest of the array)."
   ]
  },
  {
   "cell_type": "raw",
   "id": "b86d2c0d-8f07-482f-b688-629988f310c1",
   "metadata": {},
   "source": [
    "Q.5 Given a number n. Print if it is an armstrong number or not.An armstrong number is a number if the sum\n",
    "of every digit in that number raised to the power of total digits in that number is equal to the number.\n",
    "Example : 153 = 1^3 + 5^3 + 3^3 = 1 + 125 + 27 = 153 hence 153 is an armstrong number. (Easy)\n",
    "Input1 : 153\n",
    "Output1 : Yes\n",
    "Input 2 : 134\n",
    "Output2 : No"
   ]
  },
  {
   "cell_type": "code",
   "execution_count": 118,
   "id": "f8ea9a17-c5fe-49a6-80db-54d469ce5f88",
   "metadata": {},
   "outputs": [
    {
     "name": "stdout",
     "output_type": "stream",
     "text": [
      "Yes\n",
      "No\n"
     ]
    }
   ],
   "source": [
    "# Helper function to calculate the number of digits\n",
    "def count_digits(n):\n",
    "    if n ==0:\n",
    "        return 0\n",
    "    return 1+ count_digits(n//10)\n",
    "# Helper function to calculate the armstrong sum recursively\n",
    "def armstrong_sum(n,num_digits):\n",
    "    if n==0:\n",
    "        return 0\n",
    "    digit = n%10\n",
    "    return (digit**num_digits) + armstrong_sum(n//10,num_digits)\n",
    "# Main function to check if the number is an Armstrong number\n",
    "def is_armstrong(n):\n",
    "    num_digits = count_digits(n)\n",
    "    return n == armstrong_sum(n,num_digits)\n",
    "\n",
    "n1= 153\n",
    "n2= 134\n",
    "print(\"Yes\" if is_armstrong(n1) else \"No\")\n",
    "print(\"Yes\" if is_armstrong(n2) else \"No\")"
   ]
  },
  {
   "cell_type": "markdown",
   "id": "ab9802e9-1f57-41fa-b106-1497a307d060",
   "metadata": {},
   "source": [
    "1.Function definition (count_digits):\n",
    "Purpose: This function counts the number of digits in a number n.\n",
    "Base case: If n == 0, return 0 (no digits left to count).\n",
    "Recursive case: Divide the number by 10 and add 1 to count the digits.\n",
    "\n",
    "2.Function definition (armstrong_sum):\n",
    "Purpose: This function calculates the sum of the digits of n raised to the power of the number of digits (num_digits).\n",
    "Base case: If n == 0, return 0 (no more digits to process).\n",
    "Recursive case: Extract the last digit (n % 10), raise it to the power of num_digits, and add the result to the recursive sum of the remaining digits (n // 10).\n",
    "\n",
    "3.Function definition (is_armstrong):\n",
    "Purpose: This function checks whether a number n is an Armstrong number.\n",
    "Steps:\n",
    "i.Calculate the number of digits in n using count_digits.\n",
    "ii.Compute the Armstrong sum using armstrong_sum.\n",
    "iii.Return True if the Armstrong sum equals n, else return False"
   ]
  },
  {
   "cell_type": "code",
   "execution_count": null,
   "id": "9b7fc40a-0891-4e55-9a89-3b4369bb676e",
   "metadata": {},
   "outputs": [],
   "source": []
  }
 ],
 "metadata": {
  "kernelspec": {
   "display_name": "Python 3 (ipykernel)",
   "language": "python",
   "name": "python3"
  },
  "language_info": {
   "codemirror_mode": {
    "name": "ipython",
    "version": 3
   },
   "file_extension": ".py",
   "mimetype": "text/x-python",
   "name": "python",
   "nbconvert_exporter": "python",
   "pygments_lexer": "ipython3",
   "version": "3.10.8"
  }
 },
 "nbformat": 4,
 "nbformat_minor": 5
}
